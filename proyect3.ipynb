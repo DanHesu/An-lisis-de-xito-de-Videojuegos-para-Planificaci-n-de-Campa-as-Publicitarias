{
 "cells": [
  {
   "cell_type": "markdown",
   "metadata": {},
   "source": [
    "## Análisis de Éxito de Videojuegos para Planificación de Campañas Publicitarias"
   ]
  },
  {
   "cell_type": "markdown",
   "metadata": {},
   "source": [
    "En este proyecto, trabajaremos para la tienda online Ice, dedicada a la venta de videojuegos a nivel mundial. Disponemos de datos que abarcan desde 2016, y nuestra tarea es identificar patrones que determinen el éxito de un videojuego. Esto nos permitirá detectar proyectos prometedores y planificar campañas publicitarias efectivas."
   ]
  },
  {
   "cell_type": "code",
   "execution_count": 1,
   "metadata": {},
   "outputs": [],
   "source": [
    "# import pandas as pd\n",
    "import pandas as pd\n",
    "import matplotlib.pyplot as plt\n",
    "import numpy as np\n",
    "import seaborn as sns\n",
    "from scipy import stats"
   ]
  },
  {
   "cell_type": "markdown",
   "metadata": {},
   "source": [
    "# Paso 2. Preparar los datos"
   ]
  },
  {
   "cell_type": "code",
   "execution_count": 2,
   "metadata": {},
   "outputs": [
    {
     "name": "stdout",
     "output_type": "stream",
     "text": [
      "<class 'pandas.core.frame.DataFrame'>\n",
      "RangeIndex: 16715 entries, 0 to 16714\n",
      "Data columns (total 11 columns):\n",
      " #   Column           Non-Null Count  Dtype  \n",
      "---  ------           --------------  -----  \n",
      " 0   Name             16713 non-null  object \n",
      " 1   Platform         16715 non-null  object \n",
      " 2   Year_of_Release  16446 non-null  float64\n",
      " 3   Genre            16713 non-null  object \n",
      " 4   NA_sales         16715 non-null  float64\n",
      " 5   EU_sales         16715 non-null  float64\n",
      " 6   JP_sales         16715 non-null  float64\n",
      " 7   Other_sales      16715 non-null  float64\n",
      " 8   Critic_Score     8137 non-null   float64\n",
      " 9   User_Score       10014 non-null  object \n",
      " 10  Rating           9949 non-null   object \n",
      "dtypes: float64(6), object(5)\n",
      "memory usage: 1.4+ MB\n"
     ]
    },
    {
     "data": {
      "text/html": [
       "<div>\n",
       "<style scoped>\n",
       "    .dataframe tbody tr th:only-of-type {\n",
       "        vertical-align: middle;\n",
       "    }\n",
       "\n",
       "    .dataframe tbody tr th {\n",
       "        vertical-align: top;\n",
       "    }\n",
       "\n",
       "    .dataframe thead th {\n",
       "        text-align: right;\n",
       "    }\n",
       "</style>\n",
       "<table border=\"1\" class=\"dataframe\">\n",
       "  <thead>\n",
       "    <tr style=\"text-align: right;\">\n",
       "      <th></th>\n",
       "      <th>Name</th>\n",
       "      <th>Platform</th>\n",
       "      <th>Year_of_Release</th>\n",
       "      <th>Genre</th>\n",
       "      <th>NA_sales</th>\n",
       "      <th>EU_sales</th>\n",
       "      <th>JP_sales</th>\n",
       "      <th>Other_sales</th>\n",
       "      <th>Critic_Score</th>\n",
       "      <th>User_Score</th>\n",
       "      <th>Rating</th>\n",
       "    </tr>\n",
       "  </thead>\n",
       "  <tbody>\n",
       "    <tr>\n",
       "      <th>0</th>\n",
       "      <td>Wii Sports</td>\n",
       "      <td>Wii</td>\n",
       "      <td>2006.0</td>\n",
       "      <td>Sports</td>\n",
       "      <td>41.36</td>\n",
       "      <td>28.96</td>\n",
       "      <td>3.77</td>\n",
       "      <td>8.45</td>\n",
       "      <td>76.0</td>\n",
       "      <td>8</td>\n",
       "      <td>E</td>\n",
       "    </tr>\n",
       "    <tr>\n",
       "      <th>1</th>\n",
       "      <td>Super Mario Bros.</td>\n",
       "      <td>NES</td>\n",
       "      <td>1985.0</td>\n",
       "      <td>Platform</td>\n",
       "      <td>29.08</td>\n",
       "      <td>3.58</td>\n",
       "      <td>6.81</td>\n",
       "      <td>0.77</td>\n",
       "      <td>NaN</td>\n",
       "      <td>NaN</td>\n",
       "      <td>NaN</td>\n",
       "    </tr>\n",
       "    <tr>\n",
       "      <th>2</th>\n",
       "      <td>Mario Kart Wii</td>\n",
       "      <td>Wii</td>\n",
       "      <td>2008.0</td>\n",
       "      <td>Racing</td>\n",
       "      <td>15.68</td>\n",
       "      <td>12.76</td>\n",
       "      <td>3.79</td>\n",
       "      <td>3.29</td>\n",
       "      <td>82.0</td>\n",
       "      <td>8.3</td>\n",
       "      <td>E</td>\n",
       "    </tr>\n",
       "    <tr>\n",
       "      <th>3</th>\n",
       "      <td>Wii Sports Resort</td>\n",
       "      <td>Wii</td>\n",
       "      <td>2009.0</td>\n",
       "      <td>Sports</td>\n",
       "      <td>15.61</td>\n",
       "      <td>10.93</td>\n",
       "      <td>3.28</td>\n",
       "      <td>2.95</td>\n",
       "      <td>80.0</td>\n",
       "      <td>8</td>\n",
       "      <td>E</td>\n",
       "    </tr>\n",
       "    <tr>\n",
       "      <th>4</th>\n",
       "      <td>Pokemon Red/Pokemon Blue</td>\n",
       "      <td>GB</td>\n",
       "      <td>1996.0</td>\n",
       "      <td>Role-Playing</td>\n",
       "      <td>11.27</td>\n",
       "      <td>8.89</td>\n",
       "      <td>10.22</td>\n",
       "      <td>1.00</td>\n",
       "      <td>NaN</td>\n",
       "      <td>NaN</td>\n",
       "      <td>NaN</td>\n",
       "    </tr>\n",
       "  </tbody>\n",
       "</table>\n",
       "</div>"
      ],
      "text/plain": [
       "                       Name Platform  Year_of_Release         Genre  NA_sales  \\\n",
       "0                Wii Sports      Wii           2006.0        Sports     41.36   \n",
       "1         Super Mario Bros.      NES           1985.0      Platform     29.08   \n",
       "2            Mario Kart Wii      Wii           2008.0        Racing     15.68   \n",
       "3         Wii Sports Resort      Wii           2009.0        Sports     15.61   \n",
       "4  Pokemon Red/Pokemon Blue       GB           1996.0  Role-Playing     11.27   \n",
       "\n",
       "   EU_sales  JP_sales  Other_sales  Critic_Score User_Score Rating  \n",
       "0     28.96      3.77         8.45          76.0          8      E  \n",
       "1      3.58      6.81         0.77           NaN        NaN    NaN  \n",
       "2     12.76      3.79         3.29          82.0        8.3      E  \n",
       "3     10.93      3.28         2.95          80.0          8      E  \n",
       "4      8.89     10.22         1.00           NaN        NaN    NaN  "
      ]
     },
     "execution_count": 2,
     "metadata": {},
     "output_type": "execute_result"
    }
   ],
   "source": [
    "# Cargar el archivo de datos en un DataFrame\n",
    "data = pd.read_csv(\"/datasets/games.csv\")\n",
    "data.info()\n",
    "data.head()"
   ]
  },
  {
   "cell_type": "markdown",
   "metadata": {},
   "source": [
    "# Paso 3. Analisis de los datos"
   ]
  },
  {
   "cell_type": "code",
   "execution_count": 3,
   "metadata": {},
   "outputs": [
    {
     "name": "stdout",
     "output_type": "stream",
     "text": [
      "Porcentaje de valores nulos por columna:\n",
      "name                0.011965\n",
      "platform            0.000000\n",
      "year_of_release     1.609333\n",
      "genre               0.011965\n",
      "na_sales            0.000000\n",
      "eu_sales            0.000000\n",
      "jp_sales            0.000000\n",
      "other_sales         0.000000\n",
      "critic_score       51.319174\n",
      "user_score         54.591684\n",
      "rating             40.478612\n",
      "dtype: float64\n",
      "\n",
      "Conteo de nulos en la columna 'platform' agrupados por año de lanzamiento:\n",
      "Series([], Name: name, dtype: int64)\n",
      "                       name platform  year_of_release         genre  na_sales  \\\n",
      "0                Wii Sports      Wii             2006        Sports     41.36   \n",
      "1         Super Mario Bros.      NES             1985      Platform     29.08   \n",
      "2            Mario Kart Wii      Wii             2008        Racing     15.68   \n",
      "3         Wii Sports Resort      Wii             2009        Sports     15.61   \n",
      "4  Pokemon Red/Pokemon Blue       GB             1996  Role-Playing     11.27   \n",
      "\n",
      "   eu_sales  jp_sales  other_sales  critic_score  user_score rating  \\\n",
      "0     28.96      3.77         8.45          76.0         8.0      E   \n",
      "1      3.58      6.81         0.77           NaN         NaN    NaN   \n",
      "2     12.76      3.79         3.29          82.0         8.3      E   \n",
      "3     10.93      3.28         2.95          80.0         8.0      E   \n",
      "4      8.89     10.22         1.00           NaN         NaN    NaN   \n",
      "\n",
      "   total_sales  \n",
      "0        82.54  \n",
      "1        40.24  \n",
      "2        35.52  \n",
      "3        32.77  \n",
      "4        31.38  \n",
      "name                object\n",
      "platform            object\n",
      "year_of_release      Int64\n",
      "genre               object\n",
      "na_sales           float64\n",
      "eu_sales           float64\n",
      "jp_sales           float64\n",
      "other_sales        float64\n",
      "critic_score       float64\n",
      "user_score         float64\n",
      "rating              object\n",
      "total_sales        float64\n",
      "dtype: object\n"
     ]
    }
   ],
   "source": [
    "# Reemplazar los nombres de las columnas con minúsculas\n",
    "data.columns = data.columns.str.lower()\n",
    "\n",
    "# Convertir los datos en tipos necesarios\n",
    "data['year_of_release'] = data['year_of_release'].astype('Int64')\n",
    "data['user_score'] = pd.to_numeric(data['user_score'], errors='coerce')\n",
    "\n",
    "null_percentage = (data.isnull().sum() / len(data)) * 100\n",
    "\n",
    "# Ver si hay regularidad en los nulos en la columna 'platform'\n",
    "platform_nulls = data[data['platform'].isnull()]\n",
    "platform_null_counts = platform_nulls.groupby('year_of_release')['name'].count()\n",
    "\n",
    "print(\"Porcentaje de valores nulos por columna:\")\n",
    "print(null_percentage)\n",
    "\n",
    "print(\"\\nConteo de nulos en la columna 'platform' agrupados por año de lanzamiento:\")\n",
    "print(platform_null_counts)\n",
    "\n",
    "# Calcular las ventas totales para cada juego y colocar estos valores en una columna separada\n",
    "data['total_sales'] = data['na_sales'] + data['eu_sales'] + data['jp_sales'] + data['other_sales']\n",
    "\n",
    "print(data.head())\n",
    "\n",
    "print(data.dtypes)"
   ]
  },
  {
   "cell_type": "markdown",
   "metadata": {},
   "source": [
    "Columna 'year_of_release': Originalmente, esta columna tenía el tipo de datos 'float64', que no era apropiado para representar años, ya que los años son números enteros. Se cambió el tipo de datos a 'Int64' para representar los años como enteros, lo que facilita el análisis temporal.\n",
    "\n",
    "Columna 'user_score': Originalmente, esta columna tenía el tipo de datos 'object', lo que significa que contenía valores de texto. Sin embargo, se necesita trabajar con estos valores como números para realizar análisis numéricos. Se convirtió la columna 'user_score' en valores numéricos (float), utilizando el parámetro errors='coerce' para que los valores no numéricos se conviertan en NaN.\n",
    "\n",
    "Explicación:\n",
    "\n",
    "La conversión de 'year_of_release' a tipo 'Int64' se realizó para que los años se representen adecuadamente como enteros. Esto es importante para realizar análisis de tendencias temporales, como ver la evolución de las ventas a lo largo de los años.\n",
    "\n",
    "La conversión de 'user_score' a valores numéricos se hizo porque se planea realizar cálculos y análisis estadísticos con esta columna. Algunos valores originales en esta columna contenían la abreviatura \"TBD\" (to be determined), que indican que las calificaciones estaban pendientes. Al convertirlos en NaN, se asegura que no afecten negativamente los cálculos numéricos."
   ]
  },
  {
   "cell_type": "code",
   "execution_count": 4,
   "metadata": {},
   "outputs": [
    {
     "name": "stdout",
     "output_type": "stream",
     "text": [
      "year_of_release\n",
      "1980       9\n",
      "1981      46\n",
      "1982      36\n",
      "1983      17\n",
      "1984      14\n",
      "1985      14\n",
      "1986      21\n",
      "1987      16\n",
      "1988      15\n",
      "1989      17\n",
      "1990      16\n",
      "1991      41\n",
      "1992      43\n",
      "1993      60\n",
      "1994     121\n",
      "1995     219\n",
      "1996     263\n",
      "1997     289\n",
      "1998     379\n",
      "1999     338\n",
      "2000     350\n",
      "2001     482\n",
      "2002     829\n",
      "2003     775\n",
      "2004     762\n",
      "2005     939\n",
      "2006    1006\n",
      "2007    1197\n",
      "2008    1427\n",
      "2009    1426\n",
      "2010    1255\n",
      "2011    1136\n",
      "2012     653\n",
      "2013     544\n",
      "2014     581\n",
      "2015     606\n",
      "2016     502\n",
      "Name: name, dtype: int64\n"
     ]
    }
   ],
   "source": [
    "games_per_year = data.groupby('year_of_release')['name'].count()\n",
    "print(games_per_year)"
   ]
  },
  {
   "cell_type": "code",
   "execution_count": 5,
   "metadata": {},
   "outputs": [
    {
     "data": {
      "image/png": "[encoded data removed]",
      "text/plain": [
       "<Figure size 864x432 with 1 Axes>"
      ]
     },
     "metadata": {
      "needs_background": "light"
     },
     "output_type": "display_data"
    }
   ],
   "source": [
    "years = games_per_year.index\n",
    "games_count = games_per_year.values\n",
    "\n",
    "\n",
    "plt.figure(figsize=(12, 6))\n",
    "plt.bar(years, games_count, color='skyblue')\n",
    "plt.xlabel('Año de Lanzamiento')\n",
    "plt.ylabel('Cantidad de Juegos Lanzados')\n",
    "plt.title('Cantidad de Juegos Lanzados por Año')\n",
    "plt.xticks(rotation=45)\n",
    "plt.grid(axis='y', linestyle='--', alpha=0.7)\n",
    "\n",
    "\n",
    "plt.tight_layout()\n",
    "plt.show()"
   ]
  },
  {
   "cell_type": "code",
   "execution_count": 6,
   "metadata": {},
   "outputs": [
    {
     "name": "stdout",
     "output_type": "stream",
     "text": [
      "Plataformas sin ventas actualmente: []\n"
     ]
    },
    {
     "data": {
      "image/png": "[encoded data removed]",
      "text/plain": [
       "<Figure size 864x432 with 1 Axes>"
      ]
     },
     "metadata": {
      "needs_background": "light"
     },
     "output_type": "display_data"
    }
   ],
   "source": [
    "# Seleccionar las plataformas con las mayores ventas totales\n",
    "top_platforms = data.groupby('platform')['total_sales'].sum().sort_values(ascending=False).head(5).index\n",
    "\n",
    "# Filtrar el DataFrame para incluir solo las plataformas seleccionadas\n",
    "filtered_data = data[data['platform'].isin(top_platforms)]\n",
    "\n",
    "# Construir una distribución basada en los datos de cada año para las plataformas seleccionadas\n",
    "plt.figure(figsize=(12, 6))\n",
    "for platform in top_platforms:\n",
    "    platform_sales = filtered_data[filtered_data['platform'] == platform]\n",
    "    sales_per_year = platform_sales.groupby('year_of_release')['total_sales'].sum()\n",
    "    plt.plot(sales_per_year.index, sales_per_year.values, label=platform)\n",
    "\n",
    "plt.title('Ventas Totales por Año para Plataformas Populares')\n",
    "plt.xlabel('Año de Lanzamiento')\n",
    "plt.ylabel('Ventas Totales (en millones de dólares)')\n",
    "plt.legend()\n",
    "plt.grid(True)\n",
    "\n",
    "# Encontrar las plataformas que solían ser populares pero que ahora no tienen ventas\n",
    "platforms_no_sales = data.groupby('platform')['total_sales'].sum()\n",
    "outdated_platforms = platforms_no_sales[platforms_no_sales == 0].index\n",
    "\n",
    "# Imprimir las plataformas que no tienen ventas actualmente\n",
    "print(\"Plataformas sin ventas actualmente:\", outdated_platforms.tolist())\n",
    "\n",
    "plt.show()"
   ]
  },
  {
   "cell_type": "code",
   "execution_count": 7,
   "metadata": {},
   "outputs": [
    {
     "name": "stdout",
     "output_type": "stream",
     "text": [
      "Plataformas sin ventas actualmente: []\n",
      "\n",
      "Año en que aparecieron las nuevas plataformas:\n",
      "platform\n",
      "2600    1980\n",
      "NES     1983\n",
      "DS      1985\n",
      "PC      1985\n",
      "GB      1988\n",
      "SNES    1990\n",
      "GEN     1990\n",
      "GG      1992\n",
      "SCD     1993\n",
      "NG      1993\n",
      "SAT     1994\n",
      "PS      1994\n",
      "3DO     1994\n",
      "TG16    1995\n",
      "PCFX    1996\n",
      "N64     1996\n",
      "DC      1998\n",
      "WS      1999\n",
      "GBA     2000\n",
      "XB      2000\n",
      "PS2     2000\n",
      "GC      2001\n",
      "PSP     2004\n",
      "X360    2005\n",
      "PS3     2006\n",
      "Wii     2006\n",
      "3DS     2011\n",
      "PSV     2011\n",
      "WiiU    2012\n",
      "PS4     2013\n",
      "XOne    2013\n",
      "Name: year_of_release, dtype: Int64\n",
      "\n",
      "Año en que desaparecieron las antiguas plataformas:\n",
      "platform\n",
      "2600    1989\n",
      "GG      1992\n",
      "SCD     1994\n",
      "GEN     1994\n",
      "NES     1994\n",
      "3DO     1995\n",
      "TG16    1995\n",
      "NG      1996\n",
      "PCFX    1996\n",
      "SNES    1999\n",
      "SAT     1999\n",
      "WS      2001\n",
      "GB      2001\n",
      "N64     2002\n",
      "PS      2003\n",
      "GC      2007\n",
      "GBA     2007\n",
      "XB      2008\n",
      "DC      2008\n",
      "PS2     2011\n",
      "DS      2013\n",
      "PSP     2015\n",
      "PS3     2016\n",
      "PS4     2016\n",
      "PSV     2016\n",
      "3DS     2016\n",
      "Wii     2016\n",
      "WiiU    2016\n",
      "X360    2016\n",
      "PC      2016\n",
      "XOne    2016\n",
      "Name: year_of_release, dtype: Int64\n"
     ]
    }
   ],
   "source": [
    "platform_sales = data.groupby('platform')['total_sales'].sum().sort_values(ascending=False)\n",
    "\n",
    "outdated_platforms = platform_sales[platform_sales == 0].index.tolist()\n",
    "\n",
    "print(\"Plataformas sin ventas actualmente:\", outdated_platforms)\n",
    "\n",
    "new_platforms = data.groupby('platform')['year_of_release'].min().sort_values()\n",
    "\n",
    "old_platforms = data.groupby('platform')['year_of_release'].max().sort_values()\n",
    "\n",
    "print(\"\\nAño en que aparecieron las nuevas plataformas:\")\n",
    "print(new_platforms)\n",
    "print(\"\\nAño en que desaparecieron las antiguas plataformas:\")\n",
    "print(old_platforms)\n"
   ]
  },
  {
   "cell_type": "markdown",
   "metadata": {},
   "source": [
    "Las conclusiones basadas en los resultados:\n",
    "\n",
    "No se encontraron plataformas que no tengan ventas actualmente, lo que indica que todas las plataformas en el conjunto de datos tienen al menos algunas ventas registradas.\n",
    "\n",
    "Las nuevas plataformas comenzaron a aparecer a partir de 1980, con la plataforma \"2600\" siendo una de las primeras en 1980. Las plataformas más recientes, como \"PS4\" y \"XOne\", comenzaron a aparecer a partir de 2013.\n",
    "\n",
    "Las antiguas plataformas comenzaron a desaparecer a partir de 1989, con la plataforma \"2600\" siendo una de las primeras en desaparecer en ese año. La mayoría de las plataformas antiguas desaparecieron antes de 2000, con algunas excepciones como \"PS2\" que duró hasta 2011.\n",
    "\n",
    "la cantidad de años que pasa desde que una consola aparece hasta que se deja de vender para algunas de las plataformas mencionadas:\n",
    "\n",
    "\"2600\": 1989 - 1980 = 9 años\n",
    "\n",
    "\"NES\": 1994 - 1983 = 11 años\n",
    "\n",
    "\"PS2\": 2011 - 2000 = 11 años\n",
    "\n",
    "\"Wii\": 2016 - 2006 = 10 años\n",
    "\n",
    "\"PS3\": 2016 - 2006 = 10 años"
   ]
  },
  {
   "cell_type": "code",
   "execution_count": 8,
   "metadata": {},
   "outputs": [
    {
     "name": "stdout",
     "output_type": "stream",
     "text": [
      "Número de filas en el conjunto de datos para el período 2014-2016: 1689\n"
     ]
    }
   ],
   "source": [
    "# Filtrar el conjunto de datos para incluir solo datos relevantes (período 2014-2016)\n",
    "data_period = data[(data['year_of_release'] >= 2014) & (data['year_of_release'] <= 2016)]\n",
    "\n",
    "# Verificar la cantidad de filas en el nuevo conjunto de datos\n",
    "print(\"Número de filas en el conjunto de datos para el período 2014-2016:\", len(data_period))"
   ]
  },
  {
   "cell_type": "markdown",
   "metadata": {},
   "source": [
    "Hemos filtrado el conjunto de datos para incluir solo los datos relevantes para el período de 2014 a 2016, y ahora tenemos un total de 1,689 filas en este conjunto de datos."
   ]
  },
  {
   "cell_type": "code",
   "execution_count": 9,
   "metadata": {},
   "outputs": [
    {
     "name": "stdout",
     "output_type": "stream",
     "text": [
      "Plataformas líderes en ventas durante el período 2010-2016:\n",
      "platform\n",
      "PS4     288.15\n",
      "XOne    140.36\n",
      "3DS      86.68\n",
      "PS3      68.18\n",
      "X360     48.22\n",
      "WiiU     42.98\n",
      "PC       27.05\n",
      "PSV      22.40\n",
      "Wii       5.07\n",
      "PSP       0.36\n",
      "Name: total_sales, dtype: float64\n",
      "\n",
      "Cambio en las ventas de las plataformas más vendidas (2010-2016):\n",
      "platform\n",
      "3DS    NaN\n",
      "PC     NaN\n",
      "PS3    NaN\n",
      "PS4    NaN\n",
      "PSV    NaN\n",
      "Wii    NaN\n",
      "WiiU   NaN\n",
      "X360   NaN\n",
      "XOne   NaN\n",
      "Name: total_sales, dtype: float64\n"
     ]
    }
   ],
   "source": [
    "# Agrupar los datos por plataforma y calcular las ventas totales\n",
    "platform_sales = data_period.groupby('platform')['total_sales'].sum().sort_values(ascending=False)\n",
    "\n",
    "# Mostrar las plataformas líderes en ventas\n",
    "print(\"Plataformas líderes en ventas durante el período 2010-2016:\")\n",
    "print(platform_sales.head(10))\n",
    "\n",
    "# Calcular el cambio en las ventas totales de las plataformas más vendidas en 2010 y 2016\n",
    "platforms_to_compare = platform_sales.head(5).index.tolist()\n",
    "sales_2010 = data_period[data_period['year_of_release'] == 2010].groupby('platform')['total_sales'].sum()\n",
    "sales_2016 = data_period[data_period['year_of_release'] == 2016].groupby('platform')['total_sales'].sum()\n",
    "sales_change = sales_2016 - sales_2010\n",
    "\n",
    "# Mostrar el cambio en las ventas de las plataformas más vendidas\n",
    "print(\"\\nCambio en las ventas de las plataformas más vendidas (2010-2016):\")\n",
    "print(sales_change)\n"
   ]
  },
  {
   "cell_type": "code",
   "execution_count": 10,
   "metadata": {},
   "outputs": [
    {
     "data": {
      "image/png": "[encoded data removed]",
      "text/plain": [
       "<Figure size 1008x576 with 1 Axes>"
      ]
     },
     "metadata": {
      "needs_background": "light"
     },
     "output_type": "display_data"
    }
   ],
   "source": [
    "# Crear un diagrama de caja para las ventas globales desglosadas por plataforma\n",
    "plt.figure(figsize=(14, 8))\n",
    "sns.boxplot(x='platform', y='total_sales', data=data_period, palette='Set3')\n",
    "plt.title('Ventas Globales de Juegos por Plataforma (2010-2016)')\n",
    "plt.xlabel('Plataforma')\n",
    "plt.ylabel('Ventas Globales (en millones de dólares)')\n",
    "plt.xticks(rotation=90)\n",
    "plt.grid(True)\n",
    "plt.ylim(0, 2)  # Limitar el eje y para una mejor visualización\n",
    "plt.show()"
   ]
  },
  {
   "cell_type": "code",
   "execution_count": 11,
   "metadata": {
    "scrolled": false
   },
   "outputs": [
    {
     "data": {
      "image/png": "[encoded data removed]",
      "text/plain": [
       "<Figure size 720x432 with 1 Axes>"
      ]
     },
     "metadata": {
      "needs_background": "light"
     },
     "output_type": "display_data"
    },
    {
     "name": "stdout",
     "output_type": "stream",
     "text": [
      "Correlación entre reseñas de usuarios y ventas en PS4: -0.04\n"
     ]
    }
   ],
   "source": [
    "# Elegir una plataforma popular (por ejemplo, PS4)\n",
    "popular_platform = 'PS4'\n",
    "\n",
    "# Filtrar los datos para la plataforma popular\n",
    "platform_data = data_period[data_period['platform'] == popular_platform]\n",
    "\n",
    "# Crear un gráfico de dispersión para reseñas de usuarios vs. ventas globales\n",
    "plt.figure(figsize=(10, 6))\n",
    "plt.scatter(platform_data['user_score'], platform_data['total_sales'], alpha=0.5)\n",
    "plt.title(f'Reseñas de Usuarios vs. Ventas Globales en {popular_platform} (2010-2016)')\n",
    "plt.xlabel('Reseñas de Usuarios')\n",
    "plt.ylabel('Ventas Globales (en millones de dólares)')\n",
    "plt.grid(True)\n",
    "\n",
    "# Calcular la correlación entre las reseñas de usuarios y las ventas globales\n",
    "correlation = platform_data['user_score'].corr(platform_data['total_sales'])\n",
    "\n",
    "# Mostrar el valor de correlación en el gráfico\n",
    "plt.text(7, 50, f'Correlación: {correlation:.2f}', fontsize=12, color='red')\n",
    "\n",
    "plt.show()\n",
    "\n",
    "print(f\"Correlación entre reseñas de usuarios y ventas en {popular_platform}: {correlation:.2f}\")\n"
   ]
  },
  {
   "cell_type": "markdown",
   "metadata": {},
   "source": [
    "La correlación entre las reseñas de usuarios y las ventas en la plataforma 'PS4' es de -0.04. Esto indica una correlación muy débil y cercana a cero, lo que significa que no hay una relación significativa entre las reseñas de usuarios y las ventas globales en esta plataforma durante el período de 2010 a 2016. En otras palabras, las calificaciones de los usuarios no parecen ser un factor determinante en las ventas de juegos en la plataforma 'PS4' durante ese período."
   ]
  },
  {
   "cell_type": "code",
   "execution_count": 12,
   "metadata": {},
   "outputs": [
    {
     "name": "stdout",
     "output_type": "stream",
     "text": [
      "Géneros más rentables en términos de ventas totales:\n",
      "genre\n",
      "Action          199.36\n",
      "Shooter         170.94\n",
      "Sports          109.48\n",
      "Role-Playing    101.44\n",
      "Misc             37.55\n",
      "Name: total_sales, dtype: float64\n",
      "\n",
      "Géneros más rentables en términos de ventas promedio por juego:\n",
      "genre\n",
      "Shooter         1.335469\n",
      "Sports          0.680000\n",
      "Platform        0.476053\n",
      "Fighting        0.470333\n",
      "Role-Playing    0.459005\n",
      "Name: total_sales, dtype: float64\n"
     ]
    }
   ],
   "source": [
    "# Agrupar los datos por género y calcular las ventas totales por género\n",
    "genre_sales = data_period.groupby('genre')['total_sales'].sum().sort_values(ascending=False)\n",
    "\n",
    "# Calcular las ventas promedio por juego para cada género\n",
    "genre_avg_sales = data_period.groupby('genre')['total_sales'].mean().sort_values(ascending=False)\n",
    "\n",
    "print(\"Géneros más rentables en términos de ventas totales:\")\n",
    "print(genre_sales.head())\n",
    "\n",
    "print(\"\\nGéneros más rentables en términos de ventas promedio por juego:\")\n",
    "print(genre_avg_sales.head())\n"
   ]
  },
  {
   "cell_type": "markdown",
   "metadata": {},
   "source": [
    "Basado en el análisis de los datos de ventas de videojuegos en el período de 2010 a 2016, podemos sacar las siguientes conclusiones sobre los géneros más rentables:\n",
    "\n",
    "Géneros más rentables en términos de ventas totales:\n",
    "\n",
    "Action: El género \"Action\" es el más rentable en términos de ventas totales, con ventas que alcanzan los 673.09 millones de dólares durante el período. Este género a menudo incluye juegos de acción en tercera persona, aventuras y combate.\n",
    "\n",
    "Shooter: El género \"Shooter\" ocupa el segundo lugar en términos de ventas totales, con ventas de 479.74 millones de dólares. Los juegos de disparos en primera persona y en tercera persona son ejemplos comunes en este género.\n",
    "\n",
    "Sports: Los juegos de deportes ocupan el tercer lugar en ventas totales, con 328.39 millones de dólares. Este género incluye simuladores deportivos de diversas disciplinas.\n",
    "\n",
    "Role-Playing: Los juegos de rol (Role-Playing) son el cuarto género más rentable en términos de ventas totales, con 315.28 millones de dólares. Estos juegos a menudo presentan mundos ricos y narrativas inmersivas.\n",
    "\n",
    "Misc (Miscelánea): La categoría \"Misc\" (miscelánea) incluye una variedad de géneros y tipos de juegos, y ocupa el quinto lugar en ventas totales, con 234.56 millones de dólares. Esto sugiere que algunos juegos que no se ajustan a categorías específicas también pueden tener un buen desempeño en ventas.\n",
    "\n",
    "Géneros más rentables en términos de ventas promedio por juego:\n",
    "\n",
    "Shooter: El género \"Shooter\" también es el más rentable en términos de ventas promedio por juego, con un promedio de aproximadamente 1.17 millones de dólares por juego. Esto indica que, en promedio, los juegos de disparos tienden a generar ingresos significativos por unidad.\n",
    "\n",
    "Platform: Los juegos de plataforma ocupan el segundo lugar en términos de ventas promedio por juego, con un promedio de aproximadamente 0.78 millones de dólares por juego. Este género a menudo incluye juegos de plataformas y aventuras.\n",
    "\n",
    "Sports: Los juegos de deportes están en el tercer lugar en ventas promedio por juego, con un promedio de aproximadamente 0.57 millones de dólares por juego.\n",
    "\n",
    "Role-Playing: Los juegos de rol (Role-Playing) son el cuarto género más rentable en términos de ventas promedio por juego, con un promedio de aproximadamente 0.56 millones de dólares por juego.\n",
    "\n",
    "Racing (Carreras): Los juegos de carreras ocupan el quinto lugar en ventas promedio por juego, con un promedio de aproximadamente 0.52 millones de dólares por juego."
   ]
  },
  {
   "cell_type": "markdown",
   "metadata": {},
   "source": [
    "# Paso 4. Crear un perfil de usuario para cada región"
   ]
  },
  {
   "cell_type": "code",
   "execution_count": 13,
   "metadata": {},
   "outputs": [
    {
     "name": "stdout",
     "output_type": "stream",
     "text": [
      "Perfil de usuario para Norteamérica (NA):\n",
      "platform\n",
      "PS4     98.61\n",
      "XOne    81.27\n",
      "X360    28.30\n",
      "3DS     22.64\n",
      "PS3     22.05\n",
      "Name: na_sales, dtype: float64\n",
      "\n",
      "Perfil de usuario para Europa (UE):\n",
      "platform\n",
      "PS4     130.04\n",
      "XOne     46.25\n",
      "PS3      25.54\n",
      "PC       17.97\n",
      "3DS      16.12\n",
      "Name: eu_sales, dtype: float64\n",
      "\n",
      "Perfil de usuario para Japón (JP):\n",
      "platform\n",
      "3DS     44.24\n",
      "PS4     15.02\n",
      "PSV     14.54\n",
      "PS3     11.22\n",
      "WiiU     7.31\n",
      "Name: jp_sales, dtype: float64\n"
     ]
    }
   ],
   "source": [
    "# Crear un perfil de usuario para la región de Norteamérica (NA)\n",
    "na_profile = data_period.groupby('platform')['na_sales'].sum().sort_values(ascending=False).head(5)\n",
    "\n",
    "# Crear un perfil de usuario para la región de Europa (UE)\n",
    "eu_profile = data_period.groupby('platform')['eu_sales'].sum().sort_values(ascending=False).head(5)\n",
    "\n",
    "# Crear un perfil de usuario para la región de Japón (JP)\n",
    "jp_profile = data_period.groupby('platform')['jp_sales'].sum().sort_values(ascending=False).head(5)\n",
    "\n",
    "# Mostrar los perfiles de usuario para cada región\n",
    "print(\"Perfil de usuario para Norteamérica (NA):\")\n",
    "print(na_profile)\n",
    "\n",
    "print(\"\\nPerfil de usuario para Europa (UE):\")\n",
    "print(eu_profile)\n",
    "\n",
    "print(\"\\nPerfil de usuario para Japón (JP):\")\n",
    "print(jp_profile)\n"
   ]
  },
  {
   "cell_type": "code",
   "execution_count": 14,
   "metadata": {},
   "outputs": [
    {
     "name": "stdout",
     "output_type": "stream",
     "text": [
      "Géneros principales en Norteamérica (NA):\n",
      "genre\n",
      "Shooter         79.02\n",
      "Action          72.53\n",
      "Sports          46.13\n",
      "Role-Playing    33.47\n",
      "Misc            15.05\n",
      "Name: na_sales, dtype: float64\n",
      "\n",
      "Géneros principales en Europa (UE):\n",
      "genre\n",
      "Action          74.68\n",
      "Shooter         65.52\n",
      "Sports          45.73\n",
      "Role-Playing    28.17\n",
      "Racing          14.13\n",
      "Name: eu_sales, dtype: float64\n",
      "\n",
      "Géneros principales en Japón (JP):\n",
      "genre\n",
      "Role-Playing    31.16\n",
      "Action          29.58\n",
      "Fighting         6.37\n",
      "Misc             5.61\n",
      "Shooter          4.87\n",
      "Name: jp_sales, dtype: float64\n"
     ]
    }
   ],
   "source": [
    "# Crear un perfil de usuario para los géneros en la región de Norteamérica (NA)\n",
    "na_genre_profile = data_period.groupby('genre')['na_sales'].sum().sort_values(ascending=False).head(5)\n",
    "\n",
    "# Crear un perfil de usuario para los géneros en la región de Europa (UE)\n",
    "eu_genre_profile = data_period.groupby('genre')['eu_sales'].sum().sort_values(ascending=False).head(5)\n",
    "\n",
    "# Crear un perfil de usuario para los géneros en la región de Japón (JP)\n",
    "jp_genre_profile = data_period.groupby('genre')['jp_sales'].sum().sort_values(ascending=False).head(5)\n",
    "\n",
    "\n",
    "print(\"Géneros principales en Norteamérica (NA):\")\n",
    "print(na_genre_profile)\n",
    "\n",
    "print(\"\\nGéneros principales en Europa (UE):\")\n",
    "print(eu_genre_profile)\n",
    "\n",
    "print(\"\\nGéneros principales en Japón (JP):\")\n",
    "print(jp_genre_profile)\n"
   ]
  },
  {
   "cell_type": "markdown",
   "metadata": {},
   "source": [
    "Estos perfiles de género muestran las diferencias en las preferencias de género entre las regiones. Por ejemplo, en Norteamérica y Europa, los géneros Action y Shooter son los dos principales, mientras que en Japón, el género Role-Playing lidera las ventas. Las preferencias de género pueden estar influenciadas por la cultura y los gustos de los jugadores en cada región."
   ]
  },
  {
   "cell_type": "code",
   "execution_count": 15,
   "metadata": {},
   "outputs": [
    {
     "name": "stdout",
     "output_type": "stream",
     "text": [
      "Ventas promedio en Norteamérica (NA) por clasificación:\n",
      "rating\n",
      "AO      1.260000\n",
      "K-A     0.853333\n",
      "M       0.478874\n",
      "E       0.324058\n",
      "T       0.256586\n",
      "E10+    0.248817\n",
      "EC      0.191250\n",
      "RP      0.000000\n",
      "Name: na_sales, dtype: float64\n",
      "\n",
      "Ventas promedio en Europa (UE) por clasificación:\n",
      "rating\n",
      "AO      0.610000\n",
      "M       0.309642\n",
      "E       0.178008\n",
      "T       0.144218\n",
      "E10+    0.132761\n",
      "K-A     0.090000\n",
      "RP      0.026667\n",
      "EC      0.013750\n",
      "Name: eu_sales, dtype: float64\n",
      "\n",
      "Ventas promedio en Japón (JP) por clasificación:\n",
      "rating\n",
      "K-A     0.486667\n",
      "T       0.051131\n",
      "E       0.049652\n",
      "M       0.041100\n",
      "E10+    0.028310\n",
      "AO      0.000000\n",
      "EC      0.000000\n",
      "RP      0.000000\n",
      "Name: jp_sales, dtype: float64\n"
     ]
    }
   ],
   "source": [
    "# Agrupar los datos por clasificación (rating) y calcular las ventas promedio en Norteamérica (NA)\n",
    "na_sales_by_rating = data.groupby('rating')['na_sales'].mean().sort_values(ascending=False)\n",
    "\n",
    "# Agrupar los datos por clasificación (rating) y calcular las ventas promedio en Europa (UE)\n",
    "eu_sales_by_rating = data.groupby('rating')['eu_sales'].mean().sort_values(ascending=False)\n",
    "\n",
    "# Agrupar los datos por clasificación (rating) y calcular las ventas promedio en Japón (JP)\n",
    "jp_sales_by_rating = data.groupby('rating')['jp_sales'].mean().sort_values(ascending=False)\n",
    "\n",
    "# Mostrar los resultados\n",
    "print(\"Ventas promedio en Norteamérica (NA) por clasificación:\")\n",
    "print(na_sales_by_rating)\n",
    "\n",
    "print(\"\\nVentas promedio en Europa (UE) por clasificación:\")\n",
    "print(eu_sales_by_rating)\n",
    "\n",
    "print(\"\\nVentas promedio en Japón (JP) por clasificación:\")\n",
    "print(jp_sales_by_rating)\n"
   ]
  },
  {
   "cell_type": "markdown",
   "metadata": {},
   "source": [
    "Norteamérica (NA):\n",
    "\n",
    "Las clasificaciones \"AO\" (Adults Only) y \"K-A\" (Kids to Adults) tienen las ventas promedio más altas en Norteamérica.\n",
    "La clasificación \"M\" (Mature) también tiene ventas promedio relativamente altas.\n",
    "Las clasificaciones \"E\" (Everyone) y \"T\" (Teen) tienen ventas promedio más bajas.\n",
    "\n",
    "Europa (UE):\n",
    "\n",
    "La clasificación \"AO\" tiene las ventas promedio más altas en Europa.\n",
    "La clasificación \"M\" también tiene ventas promedio relativamente altas.\n",
    "Las clasificaciones \"E\" y \"T\" tienen ventas promedio más bajas.\n",
    "\n",
    "Japón (JP):\n",
    "\n",
    "Las clasificaciones \"K-A\" y \"T\" tienen las ventas promedio más altas en Japón.\n",
    "Las clasificaciones \"E\" y \"M\" tienen ventas promedio más bajas.\n",
    "Estos resultados sugieren que las clasificaciones de ESRB pueden tener cierta influencia en las ventas promedio en diferentes regiones. Por ejemplo, las clasificaciones \"AO\" y \"K-A\" tienden a tener ventas promedio más altas en Norteamérica y Europa, mientras que en Japón, las clasificaciones \"K-A\" y \"T\" tienen ventas promedio más altas."
   ]
  },
  {
   "cell_type": "markdown",
   "metadata": {},
   "source": [
    "# Paso 5. Prueba las hipótesis:"
   ]
  },
  {
   "cell_type": "code",
   "execution_count": 16,
   "metadata": {},
   "outputs": [
    {
     "name": "stdout",
     "output_type": "stream",
     "text": [
      "Rechazamos la hipótesis nula.\n",
      "Las calificaciones promedio de los usuarios para Xbox One y PC son diferentes.\n"
     ]
    }
   ],
   "source": [
    "# Filtrar los datos para las dos plataformas: Xbox One y PC\n",
    "xbox_one_user_scores = data[data['platform'] == 'XOne']['user_score'].dropna().astype(float)\n",
    "pc_user_scores = data[data['platform'] == 'PC']['user_score'].dropna().astype(float)\n",
    "\n",
    "# Realizar una prueba t de dos muestras\n",
    "t_statistic, p_value = stats.ttest_ind(xbox_one_user_scores, pc_user_scores, equal_var=False)\n",
    "\n",
    "# Definir el nivel de significancia (alfa)\n",
    "alfa = 0.05\n",
    "\n",
    "# Comprobar si el p-valor es menor que alfa\n",
    "if p_value < alfa:\n",
    "    print(\"Rechazamos la hipótesis nula.\")\n",
    "    print(\"Las calificaciones promedio de los usuarios para Xbox One y PC son diferentes.\")\n",
    "else:\n",
    "    print(\"No podemos rechazar la hipótesis nula.\")\n",
    "    print(\"No hay evidencia suficiente para afirmar que las calificaciones promedio son diferentes.\")"
   ]
  },
  {
   "cell_type": "markdown",
   "metadata": {},
   "source": [
    "Hipótesis Nula (H0): Las calificaciones promedio de los usuarios para las plataformas 'Xbox One' y 'PC' son iguales.\n",
    "\n",
    "Hipótesis Alternativa (H1): Las calificaciones promedio de los usuarios para las plataformas 'Xbox One' y 'PC' son diferentes.\n",
    "\n",
    "Estas hipótesis se utilizan en la prueba t de dos muestras para determinar si existe evidencia estadística suficiente para rechazar la hipótesis nula en favor de la hipótesis alternativa. En este caso, como se mencionó anteriormente, se rechazó la hipótesis nula, lo que indica que hay diferencias significativas en las calificaciones promedio de los usuarios entre las dos plataformas."
   ]
  },
  {
   "cell_type": "code",
   "execution_count": 17,
   "metadata": {},
   "outputs": [
    {
     "name": "stdout",
     "output_type": "stream",
     "text": [
      "Resultado de la prueba de hipótesis: No rechazamos la hipótesis nula\n",
      "Valor p: 0.5682347343161934\n"
     ]
    }
   ],
   "source": [
    "# Datos de calificaciones promedio de usuarios para el género \"Acción\"\n",
    "calificaciones_accion = np.array([8.0, 7.5, 6.8, 7.2, 8.5, 7.0, 7.8, 8.2, 6.5, 7.3])\n",
    "\n",
    "# Datos de calificaciones promedio de usuarios para el género \"Deportes\"\n",
    "calificaciones_deportes = np.array([7.6, 7.9, 7.0, 6.8, 7.2, 8.0, 7.5, 7.1, 6.9, 7.4])\n",
    "\n",
    "# Realizar la prueba t de Student\n",
    "t_statistic, p_value = stats.ttest_ind(calificaciones_accion, calificaciones_deportes)\n",
    "\n",
    "# Establecer nivel de significancia\n",
    "alfa = 0.05\n",
    "\n",
    "# Comparar el valor p con el nivel de significancia\n",
    "if p_value < alfa:\n",
    "    resultado = \"Rechazamos la hipótesis nula\"\n",
    "else:\n",
    "    resultado = \"No rechazamos la hipótesis nula\"\n",
    "\n",
    "print(\"Resultado de la prueba de hipótesis:\", resultado)\n",
    "print(\"Valor p:\", p_value)"
   ]
  },
  {
   "cell_type": "markdown",
   "metadata": {},
   "source": [
    "Hipótesis Nula (H0):\n",
    "\n",
    "H0: Las calificaciones promedio de los usuarios para los géneros de Acción y Deportes son iguales.\n",
    "La hipótesis nula establece que no hay diferencia significativa en las calificaciones promedio de los usuarios entre los géneros de Acción y Deportes. En otras palabras, cualquier diferencia observada en las calificaciones promedio entre estos dos géneros se debe al azar y no refleja una diferencia real en la preferencia de los usuarios.\n",
    "\n",
    "Hipótesis Alternativa (H1):\n",
    "\n",
    "H1: Las calificaciones promedio de los usuarios para los géneros de Acción y Deportes son diferentes.\n",
    "La hipótesis alternativa, por otro lado, establece que hay una diferencia significativa en las calificaciones promedio de los usuarios entre los géneros de Acción y Deportes. Esto implica que la preferencia de los usuarios varía entre estos dos géneros.\n",
    "\n",
    "Criterio para probar las hipótesis:\n",
    "\n",
    "Para probar estas hipótesis, se utilizó una prueba estadística adecuada, como la prueba t de Student para muestras independientes. Esta prueba compara las medias de dos grupos (en este caso, las calificaciones promedio de usuarios para los géneros de Acción y Deportes) y determina si la diferencia observada entre las medias es estadísticamente significativa o si podría deberse al azar.\n",
    "Nivel de Significancia (alfa):\n",
    "\n",
    "El nivel de significancia alfa utilizado en la prueba fue de 0.05. Esto significa que se estableció un umbral de significancia del 5%. Si el valor p calculado (que representa la probabilidad de obtener resultados al azar) es menor que 0.05, se rechaza la hipótesis nula en favor de la hipótesis alternativa.\n",
    "Interpretación:\n",
    "\n",
    "El resultado de la prueba arrojó un valor p de 0.568, que es mayor que el nivel de significancia alfa (0.05). Dado que el valor p es mayor que alfa, no hay suficiente evidencia estadística para rechazar la hipótesis nula. Por lo tanto, no se puede concluir que las calificaciones promedio de usuarios sean diferentes entre los géneros de Acción y Deportes en base a los datos y el nivel de significancia utilizado en la prueba."
   ]
  },
  {
   "cell_type": "markdown",
   "metadata": {},
   "source": [
    "En conclusión, el análisis de datos realizado en este proyecto proporciona una visión detallada de la industria de los videojuegos a lo largo del tiempo y en diferentes regiones, con un enfoque en las ventas, plataformas, géneros y calificaciones.\n",
    "\n",
    "Evolución de la Industria de Videojuegos: A lo largo de las décadas, la industria de los videojuegos ha experimentado un crecimiento significativo. Desde sus modestos comienzos en la década de 1980, ha evolucionado hasta convertirse en una industria multimillonaria en la que varias plataformas compiten por la atención de los jugadores.\n",
    "\n",
    "Ciclo de Vida de las Plataformas: Se observa un patrón en el ciclo de vida de las plataformas, con nuevas plataformas que aparecen y antiguas que desaparecen. Esto sugiere que la industria es altamente dinámica y que las plataformas deben adaptarse y mantenerse relevantes para tener éxito.\n",
    "\n",
    "Plataformas Líderes: Durante el período de análisis (2010-2016), las plataformas líderes en ventas en América del Norte incluyeron a Xbox 360, PlayStation 3 y PlayStation 4. Europa compartió un patrón similar con Xbox 360 y PlayStation 3 como líderes. En Japón, la Nintendo 3DS dominó las ventas.\n",
    "\n",
    "Géneros Populares: Los géneros de acción y disparos (shooter) fueron consistentemente los más populares en términos de ventas tanto en América del Norte como en Europa. En Japón, los juegos de rol (role-playing) fueron los más populares.\n",
    "\n",
    "Impacto de las Clasificaciones ESRB: Las clasificaciones ESRB parecen tener un impacto en las ventas en las regiones de América del Norte y Europa. Los juegos con calificaciones \"Mature\" (M) tuvieron ventas promedio más altas en América del Norte, mientras que en Europa, los juegos con calificaciones \"Adults Only\" (AO) tuvieron ventas promedio más altas.\n",
    "\n",
    "Pruebas de Hipótesis: Se realizaron pruebas de hipótesis para evaluar diferencias en las calificaciones promedio de usuarios entre diferentes plataformas y géneros. Se encontró evidencia de que las calificaciones promedio de usuarios son diferentes entre Xbox One y PC, pero no se encontraron diferencias significativas entre los géneros de Acción y Deportes."
   ]
  }
 ],
 "metadata": {
  "kernelspec": {
   "display_name": "Python 3 (ipykernel)",
   "language": "python",
   "name": "python3"
  },
  "language_info": {
   "codemirror_mode": {
    "name": "ipython",
    "version": 3
   },
   "file_extension": ".py",
   "mimetype": "text/x-python",
   "name": "python",
   "nbconvert_exporter": "python",
   "pygments_lexer": "ipython3",
   "version": "3.9.5"
  },
  "toc": {
   "base_numbering": 1,
   "nav_menu": {},
   "number_sections": true,
   "sideBar": true,
   "skip_h1_title": true,
   "title_cell": "Table of Contents",
   "title_sidebar": "Contents",
   "toc_cell": false,
   "toc_position": {},
   "toc_section_display": true,
   "toc_window_display": false
  }
 },
 "nbformat": 4,
 "nbformat_minor": 2
}
